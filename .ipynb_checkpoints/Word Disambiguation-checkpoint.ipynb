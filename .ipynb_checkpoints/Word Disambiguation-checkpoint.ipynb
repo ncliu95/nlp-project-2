{
 "cells": [
  {
   "cell_type": "code",
   "execution_count": 1,
   "id": "42b65f2b",
   "metadata": {
    "scrolled": true
   },
   "outputs": [],
   "source": [
    "import nltk\n",
    "import codecs\n",
    "from nltk.tokenize import PunktSentenceTokenizer\n",
    "from nltk.tokenize import sent_tokenize, word_tokenize\n",
    "from nltk.corpus import stopwords\n",
    "from nltk.stem import WordNetLemmatizer, PorterStemmer\n",
    "from nltk.corpus import wordnet\n",
    "import spacy\n",
    "from nltk.corpus import wordnet as wn\n",
    "from scipy.spatial.distance import cosine\n",
    "import gensim.downloader as api"
   ]
  },
  {
   "cell_type": "code",
   "execution_count": 56,
   "id": "a90adf44",
   "metadata": {
    "scrolled": true
   },
   "outputs": [
    {
     "name": "stdout",
     "output_type": "stream",
     "text": [
      "[====----------------------------------------------] 9.3% 23.4/252.1MB downloaded"
     ]
    },
    {
     "name": "stderr",
     "output_type": "stream",
     "text": [
      "IOPub message rate exceeded.\n",
      "The notebook server will temporarily stop sending output\n",
      "to the client in order to avoid crashing it.\n",
      "To change this limit, set the config variable\n",
      "`--NotebookApp.iopub_msg_rate_limit`.\n",
      "\n",
      "Current values:\n",
      "NotebookApp.iopub_msg_rate_limit=1000.0 (msgs/sec)\n",
      "NotebookApp.rate_limit_window=3.0 (secs)\n",
      "\n"
     ]
    },
    {
     "name": "stdout",
     "output_type": "stream",
     "text": [
      "[==============------------------------------------] 29.4% 74.1/252.1MB downloaded"
     ]
    },
    {
     "name": "stderr",
     "output_type": "stream",
     "text": [
      "IOPub message rate exceeded.\n",
      "The notebook server will temporarily stop sending output\n",
      "to the client in order to avoid crashing it.\n",
      "To change this limit, set the config variable\n",
      "`--NotebookApp.iopub_msg_rate_limit`.\n",
      "\n",
      "Current values:\n",
      "NotebookApp.iopub_msg_rate_limit=1000.0 (msgs/sec)\n",
      "NotebookApp.rate_limit_window=3.0 (secs)\n",
      "\n"
     ]
    },
    {
     "name": "stdout",
     "output_type": "stream",
     "text": [
      "[=========================-------------------------] 50.7% 127.9/252.1MB downloaded"
     ]
    },
    {
     "name": "stderr",
     "output_type": "stream",
     "text": [
      "IOPub message rate exceeded.\n",
      "The notebook server will temporarily stop sending output\n",
      "to the client in order to avoid crashing it.\n",
      "To change this limit, set the config variable\n",
      "`--NotebookApp.iopub_msg_rate_limit`.\n",
      "\n",
      "Current values:\n",
      "NotebookApp.iopub_msg_rate_limit=1000.0 (msgs/sec)\n",
      "NotebookApp.rate_limit_window=3.0 (secs)\n",
      "\n"
     ]
    },
    {
     "name": "stdout",
     "output_type": "stream",
     "text": [
      "[====================================--------------] 72.3% 182.2/252.1MB downloaded"
     ]
    },
    {
     "name": "stderr",
     "output_type": "stream",
     "text": [
      "IOPub message rate exceeded.\n",
      "The notebook server will temporarily stop sending output\n",
      "to the client in order to avoid crashing it.\n",
      "To change this limit, set the config variable\n",
      "`--NotebookApp.iopub_msg_rate_limit`.\n",
      "\n",
      "Current values:\n",
      "NotebookApp.iopub_msg_rate_limit=1000.0 (msgs/sec)\n",
      "NotebookApp.rate_limit_window=3.0 (secs)\n",
      "\n"
     ]
    },
    {
     "name": "stdout",
     "output_type": "stream",
     "text": [
      "[==============================================----] 93.8% 236.3/252.1MB downloaded"
     ]
    },
    {
     "name": "stderr",
     "output_type": "stream",
     "text": [
      "IOPub message rate exceeded.\n",
      "The notebook server will temporarily stop sending output\n",
      "to the client in order to avoid crashing it.\n",
      "To change this limit, set the config variable\n",
      "`--NotebookApp.iopub_msg_rate_limit`.\n",
      "\n",
      "Current values:\n",
      "NotebookApp.iopub_msg_rate_limit=1000.0 (msgs/sec)\n",
      "NotebookApp.rate_limit_window=3.0 (secs)\n",
      "\n"
     ]
    }
   ],
   "source": [
    "# Load the pre-trained GloVe word embeddings.\n",
    "model = api.load(\"glove-wiki-gigaword-200\")"
   ]
  },
  {
   "cell_type": "code",
   "execution_count": 48,
   "id": "77a0d8e4",
   "metadata": {},
   "outputs": [],
   "source": [
    "# Remove Stop Words . Word Stemming . Return new tokenised list.\n",
    "def filter_sentence(sentence):\n",
    "    filtered_sent = []\n",
    "    filtered_dict = set()\n",
    "    lemmatizer = WordNetLemmatizer()\n",
    "    ps = PorterStemmer()\n",
    "\n",
    "    stop_words = set(stopwords.words(\"english\"))\n",
    "    words = word_tokenize(sentence)\n",
    "    tagged_words = nltk.pos_tag(words)\n",
    "\n",
    "    for w, pos in tagged_words:\n",
    "        if pos.startswith('NN') and w not in stop_words:\n",
    "            new = lemmatizer.lemmatize(ps.stem(w))\n",
    "            if new not in filtered_dict:\n",
    "                filtered_sent.append(new)\n",
    "                filtered_dict.add(new)\n",
    "                for i in create_sym(w):\n",
    "                    if i not in filtered_dict:\n",
    "                        filtered_sent.append(i)\n",
    "                        filtered_dict.add(i)\n",
    "    return filtered_sent"
   ]
  },
  {
   "cell_type": "code",
   "execution_count": 49,
   "id": "9e8e8e15",
   "metadata": {},
   "outputs": [],
   "source": [
    "# Add synonyms to match list\n",
    "def create_sym(word):\n",
    "    synonyms = []\n",
    "\n",
    "    for syn in wordnet.synsets(word):\n",
    "        for i in syn.lemmas():\n",
    "            synonyms.append(i.name())\n",
    "\n",
    "    return synonyms"
   ]
  },
  {
   "cell_type": "code",
   "execution_count": 50,
   "id": "58c0bb73",
   "metadata": {},
   "outputs": [],
   "source": [
    "def check_sim(word1, word2):\n",
    "    # Get the vector representations of the two words.\n",
    "    try:\n",
    "        w1_vec = model[word1]\n",
    "        w2_vec = model[word2]\n",
    "\n",
    "        # Calculate the cosine distance between the two vectors.\n",
    "        similarity = 1 - cosine(w1_vec, w2_vec)\n",
    "\n",
    "        return similarity\n",
    "\n",
    "    except:\n",
    "        return 0\n"
   ]
  },
  {
   "cell_type": "code",
   "execution_count": 53,
   "id": "0fd3aa60",
   "metadata": {},
   "outputs": [],
   "source": [
    "def WSD_Test_Tissue(sentence):\n",
    "    target_sent = sentence\n",
    "    organfile = codecs.open(\"tissue_organ.txt\", 'r', 'utf-8')\n",
    "    sent1 = organfile.read().lower()\n",
    "    paperfile = codecs.open(\"tissue_paper.txt\", 'r', \"utf-8\")\n",
    "    sent2 = paperfile.read().lower()\n",
    "\n",
    "    filtered_sent1 = filter_sentence(sent1)\n",
    "    filtered_sent2 = filter_sentence(sent2)\n",
    "    filtered_target = filter_sentence(target_sent)\n",
    "\n",
    "    target_1_similarity = 0\n",
    "    target_2_similarity = 0\n",
    "    \n",
    "    for i in filtered_target:\n",
    "        for j in filtered_sent1:\n",
    "            target_1_similarity = target_1_similarity + check_sim(i, j)\n",
    "\n",
    "        for j in filtered_sent2:\n",
    "            target_2_similarity = target_2_similarity + check_sim(i, j)\n",
    "    \n",
    "    if target_1_similarity > target_2_similarity:\n",
    "        return 1\n",
    "    else:\n",
    "        return 2"
   ]
  },
  {
   "cell_type": "code",
   "execution_count": null,
   "id": "7c365925",
   "metadata": {},
   "outputs": [
    {
     "name": "stdout",
     "output_type": "stream",
     "text": [
      "Sense 1\n"
     ]
    }
   ],
   "source": [
    "sense1 = [\n",
    "    \"The tissue in his injured leg was slowly healing over time.\",\n",
    "    \"The doctor examined the tissue under a microscope to look for abnormalities.\",\n",
    "    \"She donated tissue for research purposes to help find a cure for the disease.\",\n",
    "    \"The plant's tissue was affected by the harsh weather conditions and began to wilt.\",\n",
    "    \"The tumor was growing in the brain tissue and causing severe symptoms.\",\n",
    "    \"He studied the tissue samples to learn more about the genetic makeup of the organism.\",\n",
    "    \"The tissue in the heart is responsible for pumping blood throughout the body.\",\n",
    "    \"She suffered a tear in the muscle tissue during the workout.\",\n",
    "    \"The biopsy revealed abnormal tissue growth that required further examination.\",\n",
    "    \"The tissue lining the stomach protects it from the acidic environment.\",\n",
    "    \"The tissue around the wound was swollen and inflamed.\",\n",
    "    \"The disease attacks the nervous tissue in the brain and spinal cord.\",\n",
    "    \"The tissue in the bone marrow produces new blood cells.\",\n",
    "    \"The bird's beak is made of a tough tissue that can break through hard shells.\",\n",
    "    \"The fruit's tissue contains a high amount of water and nutrients.\",\n",
    "    \"The tumor was successfully removed without damaging surrounding tissue.\",\n",
    "    \"He needed surgery to repair the damaged tissue in his knee.\",\n",
    "    \"The tissue in the liver filters and processes toxins from the body.\",\n",
    "    \"The flower's tissue is delicate and easily damaged by strong winds.\",\n",
    "    \"The organism's tissue was able to regenerate after being injured.\",\n",
    "    \"The biopsy showed that the tissue was cancerous and required immediate treatment.\",\n",
    "    \"The tissue in the lungs is responsible for exchanging oxygen and carbon dioxide.\",\n",
    "    \"The tissue in the skin helps to regulate body temperature and protect against pathogens.\",\n",
    "    \"The tissue in the eyes allows us to see by transmitting visual information to the brain.\",\n",
    "    \"The athlete strained the soft tissue in his ankle and had to sit out the game.\",\n",
    "    \"The tumor was located in the connective tissue and required specialized treatment.\",\n",
    "    \"The tissue in the blood vessels is responsible for regulating blood pressure and flow.\",\n",
    "    \"The tissue in the intestines absorbs nutrients from food and eliminates waste.\",\n",
    "    \"The tissue in the kidneys filters waste and excess water from the blood.\",\n",
    "    \"The organism's tissue was damaged by exposure to radiation.\",\n",
    "]\n",
    "\n",
    "sense2 = [\n",
    "    \"I used tissue paper to wrap the gift.\",\n",
    " \"She blew her nose with a tissue.\",\n",
    " \"He wiped his tears away with a tissue.\",\n",
    " \"The tissue was soft and absorbent.\",\n",
    " \"She dabbed some perfume on her wrist with a tissue.\",\n",
    " \"I always keep a pack of tissue paper in my bag.\",\n",
    " \"He carefully cleaned the wound with a tissue.\",\n",
    " \"She wiped off her lipstick with a tissue.\",\n",
    " \"The tissue stuck to his sweaty forehead.\",\n",
    " \"She folded the tissue neatly and put it away.\",\n",
    " \"I threw the used tissue into the trash.\",\n",
    " \"He sneezed into a tissue and threw it away.\",\n",
    " \"She used a tissue to clean the smudges off her glasses.\",\n",
    " \"I unfolded the tissue and saw a message written on it.\",\n",
    " \"The tissue was too thin and tore easily.\",\n",
    " \"She crumpled the tissue in her hand and threw it at him.\",\n",
    " \"The tissue floated away in the wind.\",\n",
    " \"He used a tissue to blot the excess oil from his face.\",\n",
    " \"She carefully wrapped the delicate object with tissue paper.\",\n",
    " \"I wiped the spilled coffee off the table with a tissue.\",\n",
    " \"He pulled out a tissue and blew his nose loudly.\",\n",
    " \"She used a tissue to wipe the sweat from her forehead.\",\n",
    " \"The tissue box was empty and needed to be refilled.\",\n",
    " \"I tore off a piece of tissue and used it to clean the spilled sauce.\",\n",
    " \"He nervously wiped his palms with a tissue.\",\n",
    " \"She held the tissue to her mouth to stifle her sobs.\",\n",
    " \"The tissue was scented with lavender.\",\n",
    " \"I balled up the tissue and threw it in the trash can.\",\n",
    " \"He wrapped the fragile ornament with tissue paper to protect it during transport.\",\n",
    " \"She used a tissue to dab at the sweat on her upper lip.\",\n",
    " \"The tissue disintegrated when it was wet.\"\n",
    "]\n",
    "\n",
    "def count_ones(arr):\n",
    "    count = 0\n",
    "    for val in arr:\n",
    "        if val == 1:\n",
    "            count += 1\n",
    "    return count\n",
    "\n",
    "print(\"Sense 1\")\n",
    "sense_1_results = []\n",
    "for sent in sense1:\n",
    "    sense_1_results.append(WSD_Test_Tissue(sent))\n",
    "print(f\"accuracy: {count_ones(sense_1_results)/len(sense_1_results)}\")\n",
    "\n",
    "print(\"Sense 2\")\n",
    "sense_2_results = []\n",
    "for sent in sense2:\n",
    "    sense_2_results.append(WSD_Test_Tissue(sent))\n",
    "print(f\"accuracy: {(len(sense_2_results)-count_ones(sense_2_results))/len(sense_2_results)}\")"
   ]
  },
  {
   "cell_type": "code",
   "execution_count": null,
   "id": "58124ba9",
   "metadata": {},
   "outputs": [],
   "source": []
  }
 ],
 "metadata": {
  "kernelspec": {
   "display_name": "Python 3 (ipykernel)",
   "language": "python",
   "name": "python3"
  },
  "language_info": {
   "codemirror_mode": {
    "name": "ipython",
    "version": 3
   },
   "file_extension": ".py",
   "mimetype": "text/x-python",
   "name": "python",
   "nbconvert_exporter": "python",
   "pygments_lexer": "ipython3",
   "version": "3.9.2"
  }
 },
 "nbformat": 4,
 "nbformat_minor": 5
}
